{
 "cells": [
  {
   "cell_type": "markdown",
   "id": "e06b6e92",
   "metadata": {},
   "source": [
    "## Landmark and Historical Building Data Cleaning\n",
    "\n",
    "Cleaning for the dataset on Manhattan hisotrical buildings and landmarks"
   ]
  },
  {
   "cell_type": "code",
   "execution_count": 22,
   "id": "1f0003a0",
   "metadata": {},
   "outputs": [
    {
     "data": {
      "text/plain": [
       "(37459, 39)"
      ]
     },
     "execution_count": 22,
     "metadata": {},
     "output_type": "execute_result"
    }
   ],
   "source": [
    "import pandas as pd\n",
    "import numpy as np\n",
    "import matplotlib.pyplot as plt\n",
    "import plotly.express as px\n",
    "import geopy\n",
    "\n",
    "#Read data frame from csv file\n",
    "df = pd.read_csv('archive/Historic_Building_DB_20180401_Release.csv', keep_default_na=True, delimiter=',', skipinitialspace=True)\n",
    "\n",
    "#Read size from csv\n",
    "df.shape"
   ]
  },
  {
   "cell_type": "code",
   "execution_count": 23,
   "id": "693343b3",
   "metadata": {},
   "outputs": [
    {
     "name": "stdout",
     "output_type": "stream",
     "text": [
      "<class 'pandas.core.frame.DataFrame'>\n",
      "RangeIndex: 37459 entries, 0 to 37458\n",
      "Data columns (total 39 columns):\n",
      " #   Column      Non-Null Count  Dtype  \n",
      "---  ------      --------------  -----  \n",
      " 0   the_geom    37459 non-null  object \n",
      " 1   BIN         37459 non-null  int64  \n",
      " 2   BBL         37459 non-null  int64  \n",
      " 3   Borough     37459 non-null  object \n",
      " 4   Block       37459 non-null  int64  \n",
      " 5   Lot         37459 non-null  int64  \n",
      " 6   Des_Addres  37459 non-null  object \n",
      " 7   Circa       37459 non-null  int64  \n",
      " 8   Date_Low    37459 non-null  int64  \n",
      " 9   Date_High   37459 non-null  int64  \n",
      " 10  Date_Combo  37459 non-null  object \n",
      " 11  Alt_Date_1  37459 non-null  object \n",
      " 12  Alt_Date_2  37459 non-null  object \n",
      " 13  Arch_Build  37459 non-null  object \n",
      " 14  Own_Devel   37459 non-null  object \n",
      " 15  Alt_Arch_1  37459 non-null  object \n",
      " 16  Alt_Arch_2  37459 non-null  object \n",
      " 17  Altered     37459 non-null  int64  \n",
      " 18  Style_Prim  37458 non-null  object \n",
      " 19  Style_Sec   37459 non-null  object \n",
      " 20  Style_Oth   37459 non-null  object \n",
      " 21  Mat_Prim    37459 non-null  object \n",
      " 22  Mat_Sec     37459 non-null  object \n",
      " 23  Mat_Third   37459 non-null  object \n",
      " 24  Mat_Four    37457 non-null  object \n",
      " 25  Mat_Other   37459 non-null  object \n",
      " 26  Use_Orig    37459 non-null  object \n",
      " 27  Use_Other   37459 non-null  object \n",
      " 28  Build_Type  37459 non-null  object \n",
      " 29  Build_Oth   37459 non-null  object \n",
      " 30  Build_Nme   37459 non-null  object \n",
      " 31  Notes       37458 non-null  object \n",
      " 32  Hist_Dist   37459 non-null  object \n",
      " 33  LM_Orig     37459 non-null  object \n",
      " 34  LM_New      37459 non-null  object \n",
      " 35  SC_FLAG     37459 non-null  int64  \n",
      " 36  BBL_Int     37459 non-null  int64  \n",
      " 37  SHAPE_Leng  37459 non-null  float64\n",
      " 38  SHAPE_Area  37459 non-null  float64\n",
      "dtypes: float64(2), int64(10), object(27)\n",
      "memory usage: 11.1+ MB\n"
     ]
    }
   ],
   "source": [
    "#Basic information on dataframe and feature types\n",
    "\n",
    "df.info()"
   ]
  },
  {
   "cell_type": "code",
   "execution_count": 24,
   "id": "789affd9",
   "metadata": {},
   "outputs": [
    {
     "data": {
      "text/plain": [
       "14"
      ]
     },
     "execution_count": 24,
     "metadata": {},
     "output_type": "execute_result"
    }
   ],
   "source": [
    "#Checking for duplicate rows\n",
    "\n",
    "df.duplicated().sum()\n",
    "\n",
    "#14 duplicate values pre-cleaning."
   ]
  },
  {
   "cell_type": "code",
   "execution_count": 25,
   "id": "e9469290",
   "metadata": {},
   "outputs": [],
   "source": [
    "#Removing unnecessary columns, keeping architecctural data and location data as those are the only data points needed for mapping\n",
    "\n",
    "df = df[['Borough', 'Block', 'Lot', 'Des_Addres', 'Date_Low', 'Date_High', 'Alt_Date_1', 'Alt_Date_2', 'Style_Prim', 'Style_Oth', 'LM_Orig', 'LM_New']]"
   ]
  },
  {
   "cell_type": "code",
   "execution_count": 26,
   "id": "bb021792",
   "metadata": {},
   "outputs": [],
   "source": [
    "#changing block, lot, and dates to categorical, as they are not continuous values\n",
    "\n",
    "df['Block'] = df['Block'].astype(object)\n",
    "df['Lot'] = df['Lot'].astype(object)\n",
    "df['Date_Low'] = df['Date_Low'].astype(object)\n",
    "df['Date_High'] = df['Date_High'].astype(object)"
   ]
  },
  {
   "cell_type": "code",
   "execution_count": 27,
   "id": "4b9f21c1",
   "metadata": {},
   "outputs": [
    {
     "name": "stdout",
     "output_type": "stream",
     "text": [
      "First 5 rows:\n",
      "  Borough Block  Lot                                         Des_Addres  \\\n",
      "0      BK  6692   18                               803 East 17th Street   \n",
      "1      BK  6692   74  814 East 18th Street (aka 812-814 East 18th St...   \n",
      "2      BK  5237  230                                 1653 Glenwood Road   \n",
      "3      BK  6691   32                                54 Wellington Court   \n",
      "4      BK  6693    7                                      1809 Avenue H   \n",
      "\n",
      "  Date_Low Date_High Alt_Date_1 Alt_Date_2                         Style_Prim  \\\n",
      "0     1912      1912       1958          0                     Not determined   \n",
      "1        0         0          0          0                     Not determined   \n",
      "2     1906      1906          0          0                   Colonial Revival   \n",
      "3     1911      1911          0          0                      Arts & Crafts   \n",
      "4     1906      1906          0          0  Colonial Revival with alterations   \n",
      "\n",
      "  Style_Oth LM_Orig LM_New  \n",
      "0         0       0      0  \n",
      "1         0       0      0  \n",
      "2         0       0      0  \n",
      "3         0       0      0  \n",
      "4         0       0      0  \n",
      "Last 5 rows:\n",
      "\n",
      "      Borough Block Lot                                     Des_Addres  \\\n",
      "37454      BK  5055  38                        350-352 Parkside Avenue   \n",
      "37455      BK  5048  78                            357 Parkside Avenue   \n",
      "37456      BK  5055  45                        386-388 Parkside Avenue   \n",
      "37457      BK  5048  56  413 Parkside Avenue (Aka 1996 Bedford Avenue)   \n",
      "37458      BK  5055  41                        366-368 Parkside Avenue   \n",
      "\n",
      "      Date_Low Date_High Alt_Date_1 Alt_Date_2    Style_Prim Style_Oth  \\\n",
      "37454     1909      1910          0          0  Neoclassical         0   \n",
      "37455     1914      1915          0          0  Neoclassical         0   \n",
      "37456     1909      1910          0          0  Neoclassical         0   \n",
      "37457     1909      1910          0          0  Neoclassical         0   \n",
      "37458     1909      1910          0          0  Neoclassical         0   \n",
      "\n",
      "      LM_Orig LM_New  \n",
      "37454       0      0  \n",
      "37455       0      0  \n",
      "37456       0      0  \n",
      "37457       0      0  \n",
      "37458       0      0  \n"
     ]
    }
   ],
   "source": [
    "#First and last 5 rows to check data formatting\n",
    "\n",
    "print(\"First 5 rows:\")\n",
    "print(df.head())\n",
    "print(\"Last 5 rows:\\n\")\n",
    "print(df.tail())"
   ]
  },
  {
   "cell_type": "code",
   "execution_count": 28,
   "id": "2467a753",
   "metadata": {},
   "outputs": [
    {
     "data": {
      "text/plain": [
       "898"
      ]
     },
     "execution_count": 28,
     "metadata": {},
     "output_type": "execute_result"
    }
   ],
   "source": [
    "#Re-checking for duplicate values\n",
    "\n",
    "df.duplicated().sum()\n",
    "\n",
    "#898 duplicate values post-cleaning. This is likely due to the dropped columns. These will be removed, as they represent a minority of the dataset, and provide no new information on a particular address"
   ]
  },
  {
   "cell_type": "code",
   "execution_count": 29,
   "id": "ad7d133d",
   "metadata": {},
   "outputs": [
    {
     "data": {
      "text/plain": [
       "(14578, 12)"
      ]
     },
     "execution_count": 29,
     "metadata": {},
     "output_type": "execute_result"
    }
   ],
   "source": [
    "#Removing non-Manhattan data, as this project focuses only on Manhattan\n",
    "\n",
    "df = df[df.Borough == 'MN']\n",
    "df.shape"
   ]
  },
  {
   "cell_type": "code",
   "execution_count": 34,
   "id": "24363f3d",
   "metadata": {},
   "outputs": [
    {
     "ename": "NameError",
     "evalue": "name 'geolocator' is not defined",
     "output_type": "error",
     "traceback": [
      "\u001b[1;31m---------------------------------------------------------------------------\u001b[0m",
      "\u001b[1;31mNameError\u001b[0m                                 Traceback (most recent call last)",
      "\u001b[1;32m~\\AppData\\Local\\Temp\\ipykernel_11196\\299912448.py\u001b[0m in \u001b[0;36m<module>\u001b[1;34m\u001b[0m\n\u001b[0;32m      4\u001b[0m \u001b[1;32mfor\u001b[0m \u001b[0mindex\u001b[0m\u001b[1;33m,\u001b[0m \u001b[0mrow\u001b[0m \u001b[1;32min\u001b[0m \u001b[0mdf\u001b[0m\u001b[1;33m.\u001b[0m\u001b[0miterrows\u001b[0m\u001b[1;33m(\u001b[0m\u001b[1;33m)\u001b[0m\u001b[1;33m:\u001b[0m\u001b[1;33m\u001b[0m\u001b[1;33m\u001b[0m\u001b[0m\n\u001b[0;32m      5\u001b[0m     \u001b[0maddress\u001b[0m \u001b[1;33m=\u001b[0m \u001b[0mrow\u001b[0m\u001b[1;33m[\u001b[0m\u001b[1;34m'Des_Addres'\u001b[0m\u001b[1;33m]\u001b[0m\u001b[1;33m\u001b[0m\u001b[1;33m\u001b[0m\u001b[0m\n\u001b[1;32m----> 6\u001b[1;33m     \u001b[0mlocation\u001b[0m \u001b[1;33m=\u001b[0m \u001b[0mgeolocator\u001b[0m\u001b[1;33m.\u001b[0m\u001b[0mgeocode\u001b[0m\u001b[1;33m(\u001b[0m\u001b[0maddress\u001b[0m\u001b[1;33m)\u001b[0m\u001b[1;33m\u001b[0m\u001b[1;33m\u001b[0m\u001b[0m\n\u001b[0m\u001b[0;32m      7\u001b[0m     \u001b[0mrow\u001b[0m\u001b[1;33m[\u001b[0m\u001b[1;34m'lat'\u001b[0m\u001b[1;33m]\u001b[0m \u001b[1;33m=\u001b[0m \u001b[0mlocation\u001b[0m\u001b[1;33m.\u001b[0m\u001b[0mlatitude\u001b[0m\u001b[1;33m\u001b[0m\u001b[1;33m\u001b[0m\u001b[0m\n\u001b[0;32m      8\u001b[0m     \u001b[0mrow\u001b[0m\u001b[1;33m[\u001b[0m\u001b[1;34m'lon'\u001b[0m\u001b[1;33m]\u001b[0m \u001b[1;33m=\u001b[0m \u001b[0mlocation\u001b[0m\u001b[1;33m.\u001b[0m\u001b[0mlongitude\u001b[0m\u001b[1;33m\u001b[0m\u001b[1;33m\u001b[0m\u001b[0m\n",
      "\u001b[1;31mNameError\u001b[0m: name 'geolocator' is not defined"
     ]
    }
   ],
   "source": [
    "#Converting Raw addresses to lat/lon for mapping purposes. Uses Geopy and openstreetmap API for conversion\n",
    "\n",
    "df['lat'] = np.nan\n",
    "df['lon'] = np.nan\n",
    "for index, row in df.iterrows():\n",
    "    address = row['Des_Addres']\n",
    "    location = geolocator.geocode(address)\n",
    "    row['lat'] = location.latitude\n",
    "    row['lon'] = location.longitude"
   ]
  }
 ],
 "metadata": {
  "kernelspec": {
   "display_name": "Python 3 (ipykernel)",
   "language": "python",
   "name": "python3"
  },
  "language_info": {
   "codemirror_mode": {
    "name": "ipython",
    "version": 3
   },
   "file_extension": ".py",
   "mimetype": "text/x-python",
   "name": "python",
   "nbconvert_exporter": "python",
   "pygments_lexer": "ipython3",
   "version": "3.9.13"
  }
 },
 "nbformat": 4,
 "nbformat_minor": 5
}
