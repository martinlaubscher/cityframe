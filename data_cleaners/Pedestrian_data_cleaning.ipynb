{
 "cells": [
  {
   "cell_type": "markdown",
   "id": "9b706936",
   "metadata": {},
   "source": [
    "## Pedestrian Data Cleaning\n",
    "\n",
    "This dataset focuses on pedestrian data in New York city, and will potentially be used to predict foot traffic in Manhattan. Pedestrian counts taken from 7-9am and 4-7pm.\n",
    "\n",
    "Taken from https://www.nyc.gov/html/dot/html/about/datafeeds.shtml#trafficcounts\n",
    "\n",
    "Metadata: https://www.nyc.gov/html/dot/downloads/pdf/bi-annual-ped-count-readme.pdf"
   ]
  },
  {
   "cell_type": "code",
   "execution_count": 3,
   "id": "39740c05",
   "metadata": {},
   "outputs": [
    {
     "data": {
      "text/plain": [
       "(114, 98)"
      ]
     },
     "execution_count": 3,
     "metadata": {},
     "output_type": "execute_result"
    }
   ],
   "source": [
    "import pandas as pd\n",
    "import numpy as np\n",
    "import matplotlib.pyplot as plt\n",
    "import plotly.express as px\n",
    "\n",
    "#Read data frame from csv file\n",
    "df = pd.read_csv('archive/PedCountLocationsMay2015.csv', keep_default_na=True, delimiter=',', skipinitialspace=True)\n",
    "\n",
    "#Read size from csv\n",
    "df.shape"
   ]
  },
  {
   "cell_type": "code",
   "execution_count": 4,
   "id": "71874b95",
   "metadata": {},
   "outputs": [
    {
     "data": {
      "text/plain": [
       "0"
      ]
     },
     "execution_count": 4,
     "metadata": {},
     "output_type": "execute_result"
    }
   ],
   "source": [
    "#Checking for duplicate values\n",
    "\n",
    "df.duplicated().sum()\n",
    "\n",
    "#No duplicate values"
   ]
  },
  {
   "cell_type": "code",
   "execution_count": 5,
   "id": "b44d1763",
   "metadata": {},
   "outputs": [
    {
     "name": "stdout",
     "output_type": "stream",
     "text": [
      "<class 'pandas.core.frame.DataFrame'>\n",
      "RangeIndex: 114 entries, 0 to 113\n",
      "Data columns (total 98 columns):\n",
      " #   Column      Non-Null Count  Dtype  \n",
      "---  ------      --------------  -----  \n",
      " 0   the_geom    114 non-null    object \n",
      " 1   OBJECTID    114 non-null    int64  \n",
      " 2   LOC         114 non-null    int64  \n",
      " 3   Borough     114 non-null    object \n",
      " 4   Street_Nam  114 non-null    object \n",
      " 5   From_Stree  114 non-null    object \n",
      " 6   To_Street   96 non-null     object \n",
      " 7   Index       114 non-null    object \n",
      " 8   May07_AM    112 non-null    float64\n",
      " 9   May07_PM    112 non-null    float64\n",
      " 10  May07_MD    112 non-null    float64\n",
      " 11  Sept07_AM   113 non-null    float64\n",
      " 12  Sept07_PM   113 non-null    float64\n",
      " 13  Sept07_MD   113 non-null    float64\n",
      " 14  May08_AM    113 non-null    float64\n",
      " 15  May08_PM    113 non-null    float64\n",
      " 16  May08_MD    113 non-null    float64\n",
      " 17  Sept08_AM   112 non-null    float64\n",
      " 18  Sept08_PM   112 non-null    float64\n",
      " 19  Sept08_MD   112 non-null    float64\n",
      " 20  May09_AM    114 non-null    int64  \n",
      " 21  May09_PM    114 non-null    int64  \n",
      " 22  May09_MD    114 non-null    int64  \n",
      " 23  Sept09_AM   113 non-null    float64\n",
      " 24  Sept09_PM   113 non-null    float64\n",
      " 25  Sept09_MD   113 non-null    float64\n",
      " 26  May10_AM    114 non-null    int64  \n",
      " 27  May10_PM    114 non-null    int64  \n",
      " 28  May10_MD    114 non-null    int64  \n",
      " 29  Sept10_AM   114 non-null    int64  \n",
      " 30  Sept10_PM   114 non-null    int64  \n",
      " 31  Sept10_MD   114 non-null    int64  \n",
      " 32  May11_AM    114 non-null    int64  \n",
      " 33  May11_PM    114 non-null    int64  \n",
      " 34  May11_MD    114 non-null    int64  \n",
      " 35  Sept11_AM   114 non-null    int64  \n",
      " 36  Sept11_PM   114 non-null    int64  \n",
      " 37  Sept11_MD   114 non-null    int64  \n",
      " 38  May12_AM    114 non-null    int64  \n",
      " 39  May12_PM    114 non-null    int64  \n",
      " 40  May12_MD    114 non-null    int64  \n",
      " 41  Sept12_AM   114 non-null    int64  \n",
      " 42  Sept12_PM   114 non-null    int64  \n",
      " 43  Sept12_MD   114 non-null    int64  \n",
      " 44  May13_AM    114 non-null    int64  \n",
      " 45  May13_PM    114 non-null    int64  \n",
      " 46  May13_MD    114 non-null    int64  \n",
      " 47  Sept13_AM   114 non-null    int64  \n",
      " 48  Sept13_PM   114 non-null    int64  \n",
      " 49  Sept13_MD   114 non-null    int64  \n",
      " 50  May14_AM    114 non-null    int64  \n",
      " 51  May14_PM    114 non-null    int64  \n",
      " 52  May14_MD    114 non-null    int64  \n",
      " 53  Sept14_AM   114 non-null    int64  \n",
      " 54  Sept14_PM   114 non-null    int64  \n",
      " 55  Sept14_MD   114 non-null    int64  \n",
      " 56  May15_AM    114 non-null    int64  \n",
      " 57  May15_PM    114 non-null    int64  \n",
      " 58  May15_MD    114 non-null    int64  \n",
      " 59  Sept15_AM   114 non-null    int64  \n",
      " 60  Sept15_PM   114 non-null    int64  \n",
      " 61  Sept15_MD   114 non-null    int64  \n",
      " 62  May16_AM    114 non-null    int64  \n",
      " 63  May16_PM    114 non-null    int64  \n",
      " 64  May16_MD    114 non-null    int64  \n",
      " 65  Sept16_AM   114 non-null    int64  \n",
      " 66  Sept16_PM   114 non-null    int64  \n",
      " 67  Sept16_MD   114 non-null    int64  \n",
      " 68  May17_AM    114 non-null    int64  \n",
      " 69  May17_PM    114 non-null    int64  \n",
      " 70  May17_MD    114 non-null    int64  \n",
      " 71  Sept17_AM   114 non-null    int64  \n",
      " 72  Sept17_PM   114 non-null    int64  \n",
      " 73  Sept17_MD   114 non-null    int64  \n",
      " 74  May18_AM    114 non-null    int64  \n",
      " 75  May18_PM    114 non-null    int64  \n",
      " 76  May18_MD    114 non-null    int64  \n",
      " 77  Sept18_AM   114 non-null    int64  \n",
      " 78  Sept18_PM   114 non-null    int64  \n",
      " 79  Sept18_MD   114 non-null    int64  \n",
      " 80  May19_AM    50 non-null     float64\n",
      " 81  May19_PM    50 non-null     float64\n",
      " 82  May19_MD    50 non-null     float64\n",
      " 83  Oct20_AM    95 non-null     float64\n",
      " 84  Oct20_PM    94 non-null     float64\n",
      " 85  Oct20_MD    90 non-null     float64\n",
      " 86  May21_AM    113 non-null    float64\n",
      " 87  May21_PM    113 non-null    float64\n",
      " 88  May21_MD    113 non-null    float64\n",
      " 89  Oct21_AM    113 non-null    float64\n",
      " 90  Oct21_PM    113 non-null    float64\n",
      " 91  Oct21_MD    113 non-null    float64\n",
      " 92  May22_AM    113 non-null    float64\n",
      " 93  May22_pM    113 non-null    float64\n",
      " 94  May22_MD    113 non-null    float64\n",
      " 95  Oct22_AM    114 non-null    object \n",
      " 96  Oct22_PM    114 non-null    object \n",
      " 97  Oct22_MD    114 non-null    object \n",
      "dtypes: float64(30), int64(59), object(9)\n",
      "memory usage: 87.4+ KB\n"
     ]
    }
   ],
   "source": [
    "#Basic information on dataframe features and feature types\n",
    "\n",
    "df.info()"
   ]
  },
  {
   "cell_type": "code",
   "execution_count": 7,
   "id": "4404704d",
   "metadata": {},
   "outputs": [],
   "source": [
    "#I have elected only to drop the_geom and index, as these are the only columns not related to pedestrian count or location\n",
    "\n",
    "df = df.drop(columns=['the_geom', 'Index'])"
   ]
  },
  {
   "cell_type": "code",
   "execution_count": 12,
   "id": "6531593c",
   "metadata": {},
   "outputs": [],
   "source": [
    "#changing object pedestrian counts to float64, as they represent continuous features. Changing objectid and loc to objects, as they represent categorical features\n",
    "\n",
    "#df['Oct22_AM'] = df['Oct22_AM'].astype(np.float64)\n",
    "#df['Oct22_PM'] = df['Oct22_PM'].astype(np.float64)\n",
    "#df['Oct22_MD'] = df['Oct22_MD'].astype(np.float64)\n",
    "\n",
    "#Edit: running into errors casting as float. String values contained. WIll investigate further or potentially drop if data is chosen for final project\n",
    "\n",
    "df['OBJECTID'] = df['OBJECTID'].astype(object)\n",
    "df['LOC'] = df['LOC'].astype(object)"
   ]
  },
  {
   "cell_type": "code",
   "execution_count": 13,
   "id": "3a0635fa",
   "metadata": {},
   "outputs": [],
   "source": [
    "#Removing all non-Manhattan values\n",
    "\n",
    "df = df[df.Borough == 'Manhattan']"
   ]
  },
  {
   "cell_type": "code",
   "execution_count": 14,
   "id": "15fe7b94",
   "metadata": {},
   "outputs": [
    {
     "name": "stdout",
     "output_type": "stream",
     "text": [
      "First 5 rows:\n",
      "   OBJECTID LOC    Borough       Street_Nam        From_Stree  \\\n",
      "34       35  35  Manhattan     Broad Street     Beaver Street   \n",
      "35       36  36  Manhattan         Broadway     Morris Street   \n",
      "36       37  37  Manhattan         Broadway  West 63rd Street   \n",
      "37       38  38  Manhattan  Chambers Street     West Broadway   \n",
      "38       39  39  Manhattan  Columbus Avenue  West 75th Street   \n",
      "\n",
      "               To_Street  May07_AM  May07_PM  May07_MD  Sept07_AM  ...  \\\n",
      "34  South William Street    3469.0    3992.0     599.0     4214.0  ...   \n",
      "35        Exchange Place    3660.0    8390.0    2361.0     4507.0  ...   \n",
      "36      West 64th Street    1611.0    6764.0    4592.0     1805.0  ...   \n",
      "37      Greenwich Street    7081.0    8512.0    2061.0     7192.0  ...   \n",
      "38      West 76th Street    1071.0    3037.0    3500.0     1189.0  ...   \n",
      "\n",
      "    May21_MD  Oct21_AM  Oct21_PM  Oct21_MD  May22_AM  May22_pM  May22_MD  \\\n",
      "34    1168.0    1736.0    2711.0    1279.0    2143.0    4002.0    1470.0   \n",
      "35    3395.0    1901.0    4671.0    3884.0    2804.0    7018.0    5383.0   \n",
      "36    3445.0    1899.0    5745.0    4966.0    1977.0    6730.0    4752.0   \n",
      "37    1215.0    4604.0    4163.0    1984.0    4615.0    4799.0    1538.0   \n",
      "38    1873.0    1380.0    3121.0    2846.0    1300.0    3205.0    2756.0   \n",
      "\n",
      "    Oct22_AM  Oct22_PM  Oct22_MD  \n",
      "34      2134      3643      1531  \n",
      "35      2432      4977      4877  \n",
      "36      2096      7096      5391  \n",
      "37      5268      5645      2366  \n",
      "38      1412      3425      3114  \n",
      "\n",
      "[5 rows x 96 columns]\n",
      "Last 5 rows:\n",
      "\n",
      "   OBJECTID LOC    Borough             Street_Nam   From_Stree    To_Street  \\\n",
      "65       66  66  Manhattan           Sixth Avenue  50th Street  51st Street   \n",
      "66       67  67  Manhattan         Seventh Avenue  50th Street  51st Street   \n",
      "67       68  68  Manhattan               Broadway  50th Street  51st Street   \n",
      "68       69  69  Manhattan          Eighth Avenue  50th Street  51st Street   \n",
      "69       70  70  Manhattan  Hudson River Greenway  50th Street  51st Street   \n",
      "\n",
      "    May07_AM  May07_PM  May07_MD  Sept07_AM  ...  May21_MD  Oct21_AM  \\\n",
      "65    8288.0   17222.0    7527.0     9097.0  ...    2872.0    3473.0   \n",
      "66    4490.0    9683.0    9375.0     4952.0  ...    2431.0    2168.0   \n",
      "67    3651.0   11214.0    9134.0     4158.0  ...    2585.0    2015.0   \n",
      "68    2817.0    7362.0    5118.0     3971.0  ...    3084.0    2705.0   \n",
      "69     190.0     382.0     310.0      129.0  ...     644.0     442.0   \n",
      "\n",
      "    Oct21_PM  Oct21_MD  May22_AM  May22_pM  May22_MD  Oct22_AM  Oct22_PM  \\\n",
      "65    8744.0    4826.0    5146.0   13784.0    9144.0      5356     12850   \n",
      "66    5802.0    4210.0    3722.0   11165.0    5535.0      3630      9524   \n",
      "67    6078.0    4380.0    3065.0   12216.0    7095.0      2872     10477   \n",
      "68    7814.0    5397.0    3460.0   10776.0    6970.0      3669      9959   \n",
      "69     762.0     754.0     515.0     865.0     704.0       318       314   \n",
      "\n",
      "    Oct22_MD  \n",
      "65      6196  \n",
      "66      5630  \n",
      "67      6349  \n",
      "68      6291  \n",
      "69       934  \n",
      "\n",
      "[5 rows x 96 columns]\n"
     ]
    }
   ],
   "source": [
    "#Printing the first and last 5 rows to check data formatting \n",
    "\n",
    "print(\"First 5 rows:\")\n",
    "print(df.head())\n",
    "print(\"Last 5 rows:\\n\")\n",
    "print(df.tail())"
   ]
  },
  {
   "cell_type": "code",
   "execution_count": 16,
   "id": "a9a34d7d",
   "metadata": {},
   "outputs": [],
   "source": [
    "#Saving cleaned frame to CSV\n",
    "\n",
    "df.to_csv('cleaned_pedestrian_df.csv', index=False)"
   ]
  }
 ],
 "metadata": {
  "kernelspec": {
   "display_name": "Python 3",
   "language": "python",
   "name": "python3"
  },
  "language_info": {
   "codemirror_mode": {
    "name": "ipython",
    "version": 3
   },
   "file_extension": ".py",
   "mimetype": "text/x-python",
   "name": "python",
   "nbconvert_exporter": "python",
   "pygments_lexer": "ipython3",
   "version": "3.8.8"
  }
 },
 "nbformat": 4,
 "nbformat_minor": 5
}
