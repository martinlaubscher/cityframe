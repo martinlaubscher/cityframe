{
 "cells": [
  {
   "cell_type": "markdown",
   "id": "cd9846ec",
   "metadata": {},
   "source": [
    "## Uber Dataset Cleaning\n",
    "\n",
    "Cleaning for a dataset on uber trips in new york city. Will potnetially be integrated with the taxi dataset to be used in predictive modelling for vehicular traffic, depending on compatability.\n",
    "\n",
    "Taken from https://www.kaggle.com/datasets/fivethirtyeight/uber-pickups-in-new-york-city?select=Uber-Jan-Feb-FOIL.csv\n",
    "\n",
    "NOTE: The full file size for this dataset is large, as is split up into several portions. I will be looking at a single portion as a test case"
   ]
  },
  {
   "cell_type": "code",
   "execution_count": 6,
   "id": "b481d4dc",
   "metadata": {},
   "outputs": [
    {
     "data": {
      "text/plain": [
       "(1028136, 4)"
      ]
     },
     "execution_count": 6,
     "metadata": {},
     "output_type": "execute_result"
    }
   ],
   "source": [
    "import pandas as pd\n",
    "import numpy as np\n",
    "import matplotlib.pyplot as plt\n",
    "import plotly.express as px\n",
    "\n",
    "#Read data frame from csv file\n",
    "df = pd.read_csv('archive/Uber/uber-raw-data-sep14.csv', keep_default_na=True, delimiter=',', skipinitialspace=True)\n",
    "\n",
    "#Read size from csv\n",
    "df.shape"
   ]
  },
  {
   "cell_type": "code",
   "execution_count": 7,
   "id": "3ca98778",
   "metadata": {},
   "outputs": [
    {
     "data": {
      "text/plain": [
       "24037"
      ]
     },
     "execution_count": 7,
     "metadata": {},
     "output_type": "execute_result"
    }
   ],
   "source": [
    "#Checking for duplicate values\n",
    "\n",
    "df.duplicated().sum()\n",
    "\n",
    "#24037 duplicates in original data. Due to the relatively few features, this could represent coincidence in such a large dataset, however, the specificity of latitude/longitudinal data may indicate error. For now, I will leave it in "
   ]
  },
  {
   "cell_type": "code",
   "execution_count": 8,
   "id": "350de4f1",
   "metadata": {},
   "outputs": [
    {
     "name": "stdout",
     "output_type": "stream",
     "text": [
      "<class 'pandas.core.frame.DataFrame'>\n",
      "RangeIndex: 1028136 entries, 0 to 1028135\n",
      "Data columns (total 4 columns):\n",
      " #   Column     Non-Null Count    Dtype  \n",
      "---  ------     --------------    -----  \n",
      " 0   Date/Time  1028136 non-null  object \n",
      " 1   Lat        1028136 non-null  float64\n",
      " 2   Lon        1028136 non-null  float64\n",
      " 3   Base       1028136 non-null  object \n",
      "dtypes: float64(2), object(2)\n",
      "memory usage: 31.4+ MB\n"
     ]
    }
   ],
   "source": [
    "#Basic information on dataframe features and feature types\n",
    "\n",
    "df.info()"
   ]
  },
  {
   "cell_type": "code",
   "execution_count": 9,
   "id": "addf20df",
   "metadata": {},
   "outputs": [],
   "source": [
    "#Sorting categorical and continuous features\n",
    "\n",
    "continuous = ['Date/Time', 'Base']\n",
    "categorical = ['Lat', 'Lon']"
   ]
  },
  {
   "cell_type": "code",
   "execution_count": 10,
   "id": "b8ee7bd7",
   "metadata": {},
   "outputs": [
    {
     "name": "stdout",
     "output_type": "stream",
     "text": [
      "0.0\n",
      "0.0\n",
      "0.0\n",
      "0.0\n"
     ]
    }
   ],
   "source": [
    "#Checking for missing values\n",
    "\n",
    "full = continuous + categorical\n",
    "\n",
    "for item in full:\n",
    "    percent_missing = df[item].isnull().sum() * 100 / len(df)\n",
    "    print(percent_missing)\n",
    "\n",
    "#no data appears to have a null value"
   ]
  },
  {
   "cell_type": "code",
   "execution_count": 11,
   "id": "db1db9fd",
   "metadata": {},
   "outputs": [
    {
     "data": {
      "text/plain": [
       "array([[<AxesSubplot:title={'center':'Lat'}>],\n",
       "       [<AxesSubplot:title={'center':'Lon'}>]], dtype=object)"
      ]
     },
     "execution_count": 11,
     "metadata": {},
     "output_type": "execute_result"
    },
    {
     "data": {
      "image/png": "[encoded data removed]",
      "text/plain": [
       "<Figure size 432x288 with 2 Axes>"
      ]
     },
     "metadata": {
      "needs_background": "light"
     },
     "output_type": "display_data"
    }
   ],
   "source": [
    "#Plot histograms for continuous features\n",
    "\n",
    "df.hist().T"
   ]
  },
  {
   "cell_type": "code",
   "execution_count": 12,
   "id": "1b7d1008",
   "metadata": {},
   "outputs": [
    {
     "data": {
      "image/png": "[encoded data removed]",
      "text/plain": [
       "<Figure size 432x288 with 1 Axes>"
      ]
     },
     "metadata": {
      "needs_background": "light"
     },
     "output_type": "display_data"
    },
    {
     "data": {
      "image/png": "[encoded data removed]",
      "text/plain": [
       "<Figure size 432x288 with 1 Axes>"
      ]
     },
     "metadata": {
      "needs_background": "light"
     },
     "output_type": "display_data"
    }
   ],
   "source": [
    "#Plot bar plots for categorical features\n",
    "\n",
    "for item in categorical:\n",
    "    df[item].value_counts(dropna=False).plot(kind='bar', title=item)\n",
    "    plt.show()"
   ]
  },
  {
   "cell_type": "code",
   "execution_count": null,
   "id": "7f12ca0e",
   "metadata": {},
   "outputs": [],
   "source": [
    "#no major alterations made thus far. This is a remakably simple and clean dataset"
   ]
  },
  {
   "cell_type": "code",
   "execution_count": null,
   "id": "fbc1d84c",
   "metadata": {},
   "outputs": [],
   "source": [
    "#plotting pickups on map with a heatmap style\n",
    "#ATM this breaks my computer\n",
    "\n",
    "fig = px.density_mapbox(df, lat='latitude', lon='longitude', mapbox_style='stamen-terrain')\n",
    "fig.show()"
   ]
  }
 ],
 "metadata": {
  "kernelspec": {
   "display_name": "Python 3",
   "language": "python",
   "name": "python3"
  },
  "language_info": {
   "codemirror_mode": {
    "name": "ipython",
    "version": 3
   },
   "file_extension": ".py",
   "mimetype": "text/x-python",
   "name": "python",
   "nbconvert_exporter": "python",
   "pygments_lexer": "ipython3",
   "version": "3.8.8"
  }
 },
 "nbformat": 4,
 "nbformat_minor": 5
}
