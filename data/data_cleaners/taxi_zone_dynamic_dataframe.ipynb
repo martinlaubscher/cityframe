{
 "cells": [
  {
   "cell_type": "markdown",
   "id": "46229545",
   "metadata": {},
   "source": [
    "This file aims to take the cleaned data acquired from the base data sets and transform it into a format that can be used for our machine learning purposes. This particular dataset will focus on vehicular pickup and dropoff traffic from New York taxis and FHVs. The general formatting involves looking at the various taxi zones, and counting the pickups and dropoffs that occur in each during one hour increments. Weather data is also provided for each hour. This should allow a machine learning model to predict busyness in a particular area given the time, weather, and taxi zone as inputs. "
   ]
  },
  {
   "cell_type": "code",
   "execution_count": 12,
   "id": "734b4781",
   "metadata": {},
   "outputs": [],
   "source": [
    "import pandas as pd\n",
    "import numpy as np\n",
    "import matplotlib.pyplot as plt\n",
    "import plotly.express as px"
   ]
  },
  {
   "cell_type": "code",
   "execution_count": 13,
   "id": "d4afbf3a",
   "metadata": {},
   "outputs": [
    {
     "name": "stdout",
     "output_type": "stream",
     "text": [
      "Length of pickup list: 262\n",
      "Length of dropoff list: 263\n",
      "Full taxi zone list length: 263\n",
      "Full taxi zone list: [1, 2, 3, 4, 5, 6, 7, 8, 9, 10, 11, 12, 13, 14, 15, 16, 17, 18, 19, 20, 21, 22, 23, 24, 25, 26, 27, 28, 29, 30, 31, 32, 33, 34, 35, 36, 37, 38, 39, 40, 41, 42, 43, 44, 45, 46, 47, 48, 49, 50, 51, 52, 53, 54, 55, 56, 57, 58, 59, 60, 61, 62, 63, 64, 65, 66, 67, 68, 69, 70, 71, 72, 73, 74, 75, 76, 77, 78, 79, 80, 81, 82, 83, 84, 85, 86, 87, 88, 89, 90, 91, 92, 93, 94, 95, 96, 97, 98, 99, 100, 101, 102, 104, 105, 106, 107, 108, 109, 111, 112, 113, 114, 115, 116, 117, 118, 119, 120, 121, 122, 123, 124, 125, 126, 127, 128, 129, 130, 131, 132, 133, 134, 135, 136, 137, 138, 139, 140, 141, 142, 143, 144, 145, 146, 147, 148, 149, 150, 151, 152, 153, 154, 155, 156, 157, 158, 159, 160, 161, 162, 163, 164, 165, 166, 167, 168, 169, 170, 171, 172, 173, 174, 175, 176, 177, 178, 179, 180, 181, 182, 183, 184, 185, 186, 187, 188, 189, 190, 191, 192, 193, 194, 195, 196, 197, 198, 199, 200, 201, 202, 203, 204, 205, 206, 207, 208, 209, 210, 211, 212, 213, 214, 215, 216, 217, 218, 219, 220, 221, 222, 223, 224, 225, 226, 227, 228, 229, 230, 231, 232, 233, 234, 235, 236, 237, 238, 239, 240, 241, 242, 243, 244, 245, 246, 247, 248, 249, 250, 251, 252, 253, 254, 255, 256, 257, 258, 259, 260, 261, 262, 263, 264, 265]\n"
     ]
    }
   ],
   "source": [
    "#Pickup taxi zones, dropoff taxi zones, and merged\n",
    "\n",
    "pickup = [1, 2, 3, 4, 5, 6, 7, 8, 9, 10, 11, 12, 13, 14, 15, 16, 17, 18, 19, 20, 21, 22, 23, 24, 25, 26, 27, 28, 29, 30, 31, 32, 33, 34, 35, 36, 37, 38, 39, 40, 41, 42, 43, 44, 45, 46, 47, 48, 49, 50, 51, 52, 53, 54, 55, 56, 57, 58, 59, 60, 61, 62, 63, 64, 65, 66, 67, 68, 69, 70, 71, 72, 73, 74, 75, 76, 77, 78, 79, 80, 81, 82, 83, 84, 85, 86, 87, 88, 89, 90, 91, 92, 93, 94, 95, 96, 97, 98, 99, 100, 101, 102, 105, 106, 107, 108, 109, 111, 112, 113, 114, 115, 116, 117, 118, 119, 120, 121, 122, 123, 124, 125, 126, 127, 128, 129, 130, 131, 132, 133, 134, 135, 136, 137, 138, 139, 140, 141, 142, 143, 144, 145, 146, 147, 148, 149, 150, 151, 152, 153, 154, 155, 156, 157, 158, 159, 160, 161, 162, 163, 164, 165, 166, 167, 168, 169, 170, 171, 172, 173, 174, 175, 176, 177, 178, 179, 180, 181, 182, 183, 184, 185, 186, 187, 188, 189, 190, 191, 192, 193, 194, 195, 196, 197, 198, 199, 200, 201, 202, 203, 204, 205, 206, 207, 208, 209, 210, 211, 212, 213, 214, 215, 216, 217, 218, 219, 220, 221, 222, 223, 224, 225, 226, 227, 228, 229, 230, 231, 232, 233, 234, 235, 236, 237, 238, 239, 240, 241, 242, 243, 244, 245, 246, 247, 248, 249, 250, 251, 252, 253, 254, 255, 256, 257, 258, 259, 260, 261, 262, 263, 264, 265]\n",
    "\n",
    "dropoff = [1, 2, 3, 4, 5, 6, 7, 8, 9, 10, 11, 12, 13, 14, 15, 16, 17, 18, 19, 20, 21, 22, 23, 24, 25, 26, 27, 28, 29, 30, 31, 32, 33, 34, 35, 36, 37, 38, 39, 40, 41, 42, 43, 44, 45, 46, 47, 48, 49, 50, 51, 52, 53, 54, 55, 56, 57, 58, 59, 60, 61, 62, 63, 64, 65, 66, 67, 68, 69, 70, 71, 72, 73, 74, 75, 76, 77, 78, 79, 80, 81, 82, 83, 84, 85, 86, 87, 88, 89, 90, 91, 92, 93, 94, 95, 96, 97, 98, 99, 100, 101, 102, 104, 105, 106, 107, 108, 109, 111, 112, 113, 114, 115, 116, 117, 118, 119, 120, 121, 122, 123, 124, 125, 126, 127, 128, 129, 130, 131, 132, 133, 134, 135, 136, 137, 138, 139, 140, 141, 142, 143, 144, 145, 146, 147, 148, 149, 150, 151, 152, 153, 154, 155, 156, 157, 158, 159, 160, 161, 162, 163, 164, 165, 166, 167, 168, 169, 170, 171, 172, 173, 174, 175, 176, 177, 178, 179, 180, 181, 182, 183, 184, 185, 186, 187, 188, 189, 190, 191, 192, 193, 194, 195, 196, 197, 198, 199, 200, 201, 202, 203, 204, 205, 206, 207, 208, 209, 210, 211, 212, 213, 214, 215, 216, 217, 218, 219, 220, 221, 222, 223, 224, 225, 226, 227, 228, 229, 230, 231, 232, 233, 234, 235, 236, 237, 238, 239, 240, 241, 242, 243, 244, 245, 246, 247, 248, 249, 250, 251, 252, 253, 254, 255, 256, 257, 258, 259, 260, 261, 262, 263, 264, 265]\n",
    "\n",
    "full_zones = list(set(pickup + dropoff))\n",
    "\n",
    "clean_zones = list(dict.fromkeys(full_zones))\n",
    "\n",
    "print(f'Length of pickup list: {len(pickup)}\\nLength of dropoff list: {len(dropoff)}\\nFull taxi zone list length: {len(full_zones)}\\nFull taxi zone list: {full_zones}')"
   ]
  },
  {
   "cell_type": "code",
   "execution_count": 14,
   "id": "5269428c",
   "metadata": {
    "scrolled": true
   },
   "outputs": [
    {
     "data": {
      "text/plain": [
       "(24648499, 14)"
      ]
     },
     "execution_count": 14,
     "metadata": {},
     "output_type": "execute_result"
    }
   ],
   "source": [
    "#Read data frame from csv file\n",
    "\n",
    "tdf = pd.read_csv('C:/Users/mattx/Downloads/data/cleaned data/cleaned_taxi_df.csv', keep_default_na=True, delimiter=',', skipinitialspace=True, low_memory=False)\n",
    "\n",
    "#Read size from csv\n",
    "\n",
    "tdf.shape"
   ]
  },
  {
   "cell_type": "code",
   "execution_count": 15,
   "id": "82c1f595",
   "metadata": {},
   "outputs": [],
   "source": [
    "#Valid taxi zones for manhattan\n",
    "\n",
    "valid_zones = [4,  24,  12,  13,  41,  45,  42,  43,  48,  50,  68,  79,  74,\n",
    "        75,  87,  88,  90, 125, 100, 103, 107, 113, 114, 116, 120, 127,\n",
    "       128, 151, 140, 137, 141, 142, 152, 143, 144, 148, 153, 158, 161,\n",
    "       162, 163, 164, 170, 166, 186, 194, 202, 209, 211, 224, 229, 230,\n",
    "       231, 239, 232, 233, 234, 236, 237, 238, 263, 243, 244, 246, 249,\n",
    "       261, 262]"
   ]
  },
  {
   "cell_type": "code",
   "execution_count": 16,
   "id": "d776ab4c",
   "metadata": {},
   "outputs": [
    {
     "name": "stdout",
     "output_type": "stream",
     "text": [
      "<class 'pandas.core.frame.DataFrame'>\n",
      "RangeIndex: 24648499 entries, 0 to 24648498\n",
      "Data columns (total 14 columns):\n",
      " #   Column                 Dtype  \n",
      "---  ------                 -----  \n",
      " 0   tpep_pickup_datetime   object \n",
      " 1   tpep_dropoff_datetime  object \n",
      " 2   passenger_count        float64\n",
      " 3   PULocationID           int64  \n",
      " 4   DOLocationID           int64  \n",
      " 5   week                   object \n",
      " 6   PUday                  int64  \n",
      " 7   PUmonth                int64  \n",
      " 8   PUyear                 int64  \n",
      " 9   DOday                  int64  \n",
      " 10  DOmonth                int64  \n",
      " 11  DOyear                 int64  \n",
      " 12  PUhour                 int64  \n",
      " 13  DOhour                 int64  \n",
      "dtypes: float64(1), int64(10), object(3)\n",
      "memory usage: 2.6+ GB\n"
     ]
    }
   ],
   "source": [
    "#Basic information on dataframes features and feature types\n",
    "\n",
    "tdf.info()"
   ]
  },
  {
   "cell_type": "code",
   "execution_count": 17,
   "id": "de2db1a6",
   "metadata": {},
   "outputs": [
    {
     "name": "stdout",
     "output_type": "stream",
     "text": [
      "First 5 rows:\n",
      "   PUday  PUmonth  PUyear  PUhour       week  PULocationID  pickup_count\n",
      "0      1        1    2003       0  Wednesday           193             1\n",
      "1      1        1    2009       0   Thursday            43             2\n",
      "2      1        1    2009       0   Thursday            68             1\n",
      "3      1        1    2009       0   Thursday            78             1\n",
      "4      1        1    2009       0   Thursday            79             2\n",
      "Last 5 rows:\n",
      "\n",
      "        PUday  PUmonth  PUyear  PUhour      week  PULocationID  pickup_count\n",
      "937890     31       12    2020      23  Thursday           261             4\n",
      "937891     31       12    2020      23  Thursday           262             9\n",
      "937892     31       12    2020      23  Thursday           263            36\n",
      "937893     31       12    2020      23  Thursday           264            14\n",
      "937894     31       12    2020      23  Thursday           265             7\n",
      "First 5 rows:\n",
      "   PUday  PUmonth  PUyear  PUhour       week  PULocationID  pickup_count\n",
      "0      1        1    2003       0  Wednesday           193             1\n",
      "1      1        1    2009       0   Thursday            43             2\n",
      "2      1        1    2009       0   Thursday            68             1\n",
      "3      1        1    2009       0   Thursday            78             1\n",
      "4      1        1    2009       0   Thursday            79             2\n",
      "Last 5 rows:\n",
      "\n",
      "        PUday  PUmonth  PUyear  PUhour      week  PULocationID  pickup_count\n",
      "937890     31       12    2020      23  Thursday           261             4\n",
      "937891     31       12    2020      23  Thursday           262             9\n",
      "937892     31       12    2020      23  Thursday           263            36\n",
      "937893     31       12    2020      23  Thursday           264            14\n",
      "937894     31       12    2020      23  Thursday           265             7\n",
      "First 5 rows:\n",
      "   day  month  year  hour      week  taxi_zone  pickup_count  dropoff_count\n",
      "0    1      1  2009     0  Thursday         43             2            NaN\n",
      "1    1      1  2009     0  Thursday         68             1            NaN\n",
      "2    1      1  2009     0  Thursday         79             2            NaN\n",
      "3    1      1  2009     0  Thursday        100             2            1.0\n",
      "4    1      1  2009     0  Thursday        107             1            NaN\n",
      "Last 5 rows:\n",
      "\n",
      "        day  month  year  hour      week  taxi_zone  pickup_count  \\\n",
      "468954   31     12  2020    23  Thursday        246             9   \n",
      "468955   31     12  2020    23  Thursday        249            31   \n",
      "468956   31     12  2020    23  Thursday        261             4   \n",
      "468957   31     12  2020    23  Thursday        262             9   \n",
      "468958   31     12  2020    23  Thursday        263            36   \n",
      "\n",
      "        dropoff_count  \n",
      "468954           15.0  \n",
      "468955           13.0  \n",
      "468956            9.0  \n",
      "468957           21.0  \n",
      "468958           22.0  \n"
     ]
    }
   ],
   "source": [
    "#grouping taxi data by hour and getting counts for each zone for pickups\n",
    "\n",
    "tempdfPU = pd.DataFrame({'pickup_count' : tdf.groupby(['PUday','PUmonth', 'PUyear', 'PUhour', 'week', 'PULocationID'])['PULocationID'].count()}).reset_index()\n",
    "\n",
    "print('TEMP PU')\n",
    "print(\"First 5 rows:\")\n",
    "print(tempdfPU.head())\n",
    "print(\"Last 5 rows:\\n\")\n",
    "print(tempdfPU.tail())\n",
    "\n",
    "\n",
    "#grouping taxi data by hour and getting counts for each zone for dropoffs\n",
    "\n",
    "tempdfDO = pd.DataFrame({'dropoff_count' : tdf.groupby(['DOday','DOmonth', 'DOyear', 'DOhour', 'DOLocationID'])['DOLocationID'].count()}).reset_index()\n",
    "\n",
    "print(\"TEMP DO\")\n",
    "print(\"First 5 rows:\")\n",
    "print(tempdfPU.head())\n",
    "print(\"Last 5 rows:\\n\")\n",
    "print(tempdfPU.tail())\n",
    "\n",
    "\n",
    "#changing names to facilitate left join\n",
    "\n",
    "tempdfPU = tempdfPU.rename(columns={'PUyear':'year', 'PUmonth':'month', 'PUday':'day','PUhour':'hour','PULocationID':'taxi_zone'})\n",
    "tempdfDO = tempdfDO.rename(columns={'DOyear':'year', 'DOmonth':'month', 'DOday':'day','DOhour':'hour','DOLocationID':'taxi_zone'})\n",
    "\n",
    "#dropping invalid pickup locations\n",
    "tempdfDO = tempdfDO[tempdfDO['taxi_zone'].isin(valid_zones)]\n",
    "tempdfPU = tempdfPU[tempdfPU['taxi_zone'].isin(valid_zones)]\n",
    "\n",
    "\n",
    "#Performing a left join on the two datasets\n",
    "\n",
    "joindf = pd.merge(tempdfPU, tempdfDO, how='left', left_on=['year', 'month', 'day', 'hour', 'taxi_zone'], right_on=['year', 'month', 'day', 'hour', 'taxi_zone'])\n",
    "\n",
    "\n",
    "print(\"FINAL\")\n",
    "print(\"First 5 rows:\")\n",
    "print(joindf.head())\n",
    "print(\"Last 5 rows:\\n\")\n",
    "print(joindf.tail())"
   ]
  },
  {
   "cell_type": "code",
   "execution_count": 18,
   "id": "3e4d6c4e",
   "metadata": {},
   "outputs": [
    {
     "data": {
      "text/plain": [
       "(19005, 25)"
      ]
     },
     "execution_count": 18,
     "metadata": {},
     "output_type": "execute_result"
    }
   ],
   "source": [
    "#importing weather data to be merged\n",
    "\n",
    "wdf = pd.read_csv('C:/Users/mattx/Downloads/data/cleaned data/cleaned_weather_df.csv', keep_default_na=True, delimiter=',', skipinitialspace=True, low_memory=False)\n",
    "\n",
    "#Read size from csv\n",
    "\n",
    "wdf.shape"
   ]
  },
  {
   "cell_type": "code",
   "execution_count": 19,
   "id": "e0831f11",
   "metadata": {},
   "outputs": [],
   "source": [
    "#Cutting weather data down to essential columns only: datetime, temperature, feels like, weather_main\n",
    "\n",
    "wdf = wdf[['year', 'month', 'day', 'hour', 'temp', 'feels_like', 'weather_main']]"
   ]
  },
  {
   "cell_type": "code",
   "execution_count": 20,
   "id": "e3bffc52",
   "metadata": {},
   "outputs": [
    {
     "name": "stdout",
     "output_type": "stream",
     "text": [
      "<class 'pandas.core.frame.DataFrame'>\n",
      "RangeIndex: 19005 entries, 0 to 19004\n",
      "Data columns (total 7 columns):\n",
      " #   Column        Non-Null Count  Dtype  \n",
      "---  ------        --------------  -----  \n",
      " 0   year          19005 non-null  int64  \n",
      " 1   month         19005 non-null  int64  \n",
      " 2   day           19005 non-null  int64  \n",
      " 3   hour          19005 non-null  int64  \n",
      " 4   temp          19005 non-null  float64\n",
      " 5   feels_like    19005 non-null  float64\n",
      " 6   weather_main  19005 non-null  object \n",
      "dtypes: float64(2), int64(4), object(1)\n",
      "memory usage: 1.0+ MB\n"
     ]
    }
   ],
   "source": [
    "#Basic information on dataframes features and feature types\n",
    "\n",
    "wdf.info()"
   ]
  },
  {
   "cell_type": "code",
   "execution_count": 21,
   "id": "a19d593c",
   "metadata": {},
   "outputs": [
    {
     "name": "stdout",
     "output_type": "stream",
     "text": [
      "First 5 rows:\n",
      "   day  month  year  hour      week  taxi_zone  pickup_count  dropoff_count  \\\n",
      "0    1      1  2009     0  Thursday         43             2            NaN   \n",
      "1    1      1  2009     0  Thursday         68             1            NaN   \n",
      "2    1      1  2009     0  Thursday         79             2            NaN   \n",
      "3    1      1  2009     0  Thursday        100             2            1.0   \n",
      "4    1      1  2009     0  Thursday        107             1            NaN   \n",
      "\n",
      "   temp  feels_like weather_main  \n",
      "0   NaN         NaN          NaN  \n",
      "1   NaN         NaN          NaN  \n",
      "2   NaN         NaN          NaN  \n",
      "3   NaN         NaN          NaN  \n",
      "4   NaN         NaN          NaN  \n",
      "Last 5 rows:\n",
      "\n",
      "        day  month  year  hour      week  taxi_zone  pickup_count  \\\n",
      "506787   31     12  2020    23  Thursday        246             9   \n",
      "506788   31     12  2020    23  Thursday        249            31   \n",
      "506789   31     12  2020    23  Thursday        261             4   \n",
      "506790   31     12  2020    23  Thursday        262             9   \n",
      "506791   31     12  2020    23  Thursday        263            36   \n",
      "\n",
      "        dropoff_count    temp  feels_like weather_main  \n",
      "506787           15.0  275.34      271.49        Clear  \n",
      "506788           13.0  275.34      271.49        Clear  \n",
      "506789            9.0  275.34      271.49        Clear  \n",
      "506790           21.0  275.34      271.49        Clear  \n",
      "506791           22.0  275.34      271.49        Clear  \n"
     ]
    }
   ],
   "source": [
    "#joining weather df into joindf\n",
    "\n",
    "joindf = pd.merge(joindf, wdf, how='left', left_on=['year', 'month', 'day', 'hour'], right_on=['year', 'month', 'day', 'hour'])\n",
    "\n",
    "print(\"First 5 rows:\")\n",
    "print(joindf.head())\n",
    "print(\"Last 5 rows:\\n\")\n",
    "print(joindf.tail())"
   ]
  },
  {
   "cell_type": "code",
   "execution_count": 22,
   "id": "07c419f9",
   "metadata": {},
   "outputs": [
    {
     "name": "stdout",
     "output_type": "stream",
     "text": [
      "<class 'pandas.core.frame.DataFrame'>\n",
      "Int64Index: 506792 entries, 0 to 506791\n",
      "Data columns (total 11 columns):\n",
      " #   Column         Non-Null Count   Dtype  \n",
      "---  ------         --------------   -----  \n",
      " 0   day            506792 non-null  int64  \n",
      " 1   month          506792 non-null  int64  \n",
      " 2   year           506792 non-null  int64  \n",
      " 3   hour           506792 non-null  int64  \n",
      " 4   week           506792 non-null  object \n",
      " 5   taxi_zone      506792 non-null  int64  \n",
      " 6   pickup_count   506792 non-null  int64  \n",
      " 7   dropoff_count  482409 non-null  float64\n",
      " 8   temp           506708 non-null  float64\n",
      " 9   feels_like     506708 non-null  float64\n",
      " 10  weather_main   506708 non-null  object \n",
      "dtypes: float64(3), int64(6), object(2)\n",
      "memory usage: 46.4+ MB\n"
     ]
    }
   ],
   "source": [
    "#Basic information on dataframes features and feature types\n",
    "\n",
    "joindf.info()"
   ]
  },
  {
   "cell_type": "code",
   "execution_count": 23,
   "id": "59eef468",
   "metadata": {},
   "outputs": [],
   "source": [
    "#Casting categorical feature properly\n",
    "\n",
    "joindf['day'] = joindf['day'].astype(object)\n",
    "joindf['month'] = joindf['month'].astype(object)\n",
    "joindf['year'] = joindf['year'].astype(object)\n",
    "joindf['hour'] = joindf['hour'].astype(object)\n",
    "joindf['taxi_zone'] = joindf['taxi_zone'].astype(object)"
   ]
  },
  {
   "cell_type": "code",
   "execution_count": 24,
   "id": "23b2418b",
   "metadata": {},
   "outputs": [],
   "source": [
    "#Grouping continuous and categorical features\n",
    "\n",
    "categorical = ['taxi_zone', 'year', 'month', 'day', 'week', 'hour','weather_main']\n",
    "continuous = ['pickup_count', 'dropoff_count',  'temp', 'feels_like']"
   ]
  },
  {
   "cell_type": "code",
   "execution_count": 27,
   "id": "9d807493",
   "metadata": {},
   "outputs": [
    {
     "name": "stdout",
     "output_type": "stream",
     "text": [
      "day: 0.0\n",
      "month: 0.0\n",
      "year: 0.0\n",
      "hour: 0.0\n",
      "week: 0.0\n",
      "taxi_zone: 0.0\n",
      "pickup_count: 0.0\n",
      "dropoff_count: 0.0\n",
      "temp: 0.0\n",
      "feels_like: 0.0\n",
      "weather_main: 0.0\n"
     ]
    }
   ],
   "source": [
    "#Checking for missing values\n",
    "\n",
    "full = list(joindf)\n",
    "\n",
    "for item in full:\n",
    "    percent_missing = joindf[item].isnull().sum() * 100 / len(joindf)\n",
    "    print(f'{item}: {percent_missing}')\n",
    "    \n",
    "#There is a fair amount of missing data in dropoff count, and a miniscule amount of missing data in temp, feels_like, and weather_main\n",
    "#Null dropoff count will be set to 0, as this likely represents dropoffs that occured outside of Manhattan\n",
    "#Null weather data will be deleted, as it is not a sigificant amountof data, and would spoil the machine learning\n",
    "#Erroneous data (I.E. dates outside of the original datetime range) will also be deleted\n",
    "\n",
    "joindf['dropoff_count'] = joindf['dropoff_count'].fillna(0)\n",
    "joindf = joindf[joindf['temp'].notna()]\n",
    "joindf = joindf[joindf['feels_like'].notna()]\n",
    "joindf = joindf[joindf['weather_main'].notna()]"
   ]
  },
  {
   "cell_type": "code",
   "execution_count": 28,
   "id": "2c0320ab",
   "metadata": {},
   "outputs": [
    {
     "name": "stdout",
     "output_type": "stream",
     "text": [
      "day: 0.0\n",
      "month: 0.0\n",
      "year: 0.0\n",
      "hour: 0.0\n",
      "week: 0.0\n",
      "taxi_zone: 0.0\n",
      "pickup_count: 0.0\n",
      "dropoff_count: 0.0\n",
      "temp: 0.0\n",
      "feels_like: 0.0\n",
      "weather_main: 0.0\n"
     ]
    }
   ],
   "source": [
    "#Rechecking for missing values\n",
    "\n",
    "full = list(joindf)\n",
    "\n",
    "for item in full:\n",
    "    percent_missing = joindf[item].isnull().sum() * 100 / len(joindf)\n",
    "    print(f'{item}: {percent_missing}')"
   ]
  },
  {
   "cell_type": "code",
   "execution_count": 29,
   "id": "927a29c9",
   "metadata": {},
   "outputs": [],
   "source": [
    "#adding pickup and dropoff counts together. Our group has decided that the division between the two is arbitrary, as both indicate vehicle and foot traffic\n",
    "\n",
    "joindf['activity'] = joindf['pickup_count'] + joindf['dropoff_count']\n",
    "\n",
    "\n",
    "#dropping redundant columns\n",
    "\n",
    "joindf = joindf.drop(columns=['pickup_count', 'dropoff_count'])"
   ]
  },
  {
   "cell_type": "code",
   "execution_count": 30,
   "id": "7d11c2a5",
   "metadata": {},
   "outputs": [],
   "source": [
    "#mapping weekdays to numeric representation for the purpose of machine learning\n",
    "\n",
    "mapping = {'Sunday': 0, 'Monday': 1, 'Tuesday': 2, 'Wednesday': 3, 'Thursday': 4, 'Friday': 5, 'Saturday': 6 }\n",
    "\n",
    "joindf = joindf.applymap(lambda s: mapping.get(s) if s in mapping else s)"
   ]
  },
  {
   "cell_type": "code",
   "execution_count": 31,
   "id": "b96a465e",
   "metadata": {},
   "outputs": [
    {
     "name": "stdout",
     "output_type": "stream",
     "text": [
      "['Clear', 'Clouds', 'Drizzle', 'Fog', 'Haze', 'Mist', 'Rain', 'Smoke', 'Snow', 'Squall', 'Thunderstorm']\n"
     ]
    }
   ],
   "source": [
    "#mapping values for weather main to numeric representation for the purpose of machine learning\n",
    "\n",
    "print(sorted(joindf['weather_main'].unique()))\n",
    "\n",
    "#dictionary holding k:v pairs for weather states\n",
    "\n",
    "mapping = {'Clear':1, 'Clouds':2, 'Drizzle': 3, 'Fog':4, 'Haze': 5, 'Mist':6, 'Rain': 7, 'Smoke': 8, 'Snow': 9, 'Squall': 10, 'Thunderstorm': 11}\n",
    "\n",
    "#replacing values with mapped numbers\n",
    "\n",
    "joindf = joindf.applymap(lambda s: mapping.get(s) if s in mapping else s)"
   ]
  },
  {
   "cell_type": "code",
   "execution_count": 34,
   "id": "b7b20c46",
   "metadata": {},
   "outputs": [
    {
     "data": {
      "text/plain": [
       "array([[<AxesSubplot:title={'center':'day'}>,\n",
       "        <AxesSubplot:title={'center':'hour'}>,\n",
       "        <AxesSubplot:title={'center':'temp'}>,\n",
       "        <AxesSubplot:title={'center':'activity'}>],\n",
       "       [<AxesSubplot:title={'center':'month'}>,\n",
       "        <AxesSubplot:title={'center':'week'}>,\n",
       "        <AxesSubplot:title={'center':'feels_like'}>, <AxesSubplot:>],\n",
       "       [<AxesSubplot:title={'center':'year'}>,\n",
       "        <AxesSubplot:title={'center':'taxi_zone'}>,\n",
       "        <AxesSubplot:title={'center':'weather_main'}>, <AxesSubplot:>]],\n",
       "      dtype=object)"
      ]
     },
     "execution_count": 34,
     "metadata": {},
     "output_type": "execute_result"
    },
    {
     "data": {
      "image/png": "[encoded data removed]",
      "text/plain": [
       "<Figure size 432x288 with 12 Axes>"
      ]
     },
     "metadata": {
      "needs_background": "light"
     },
     "output_type": "display_data"
    }
   ],
   "source": [
    "#Plot histograms for continuous features\n",
    "\n",
    "joindf.hist().T"
   ]
  },
  {
   "cell_type": "code",
   "execution_count": 35,
   "id": "0f0a64f3",
   "metadata": {},
   "outputs": [
    {
     "data": {
      "image/png": "[encoded data removed]",
      "text/plain": [
       "<Figure size 432x288 with 1 Axes>"
      ]
     },
     "metadata": {
      "needs_background": "light"
     },
     "output_type": "display_data"
    },
    {
     "data": {
      "image/png": "[encoded data removed]",
      "text/plain": [
       "<Figure size 432x288 with 1 Axes>"
      ]
     },
     "metadata": {
      "needs_background": "light"
     },
     "output_type": "display_data"
    },
    {
     "data": {
      "image/png": "[encoded data removed]",
      "text/plain": [
       "<Figure size 432x288 with 1 Axes>"
      ]
     },
     "metadata": {
      "needs_background": "light"
     },
     "output_type": "display_data"
    },
    {
     "data": {
      "image/png": "[encoded data removed]",
      "text/plain": [
       "<Figure size 432x288 with 1 Axes>"
      ]
     },
     "metadata": {
      "needs_background": "light"
     },
     "output_type": "display_data"
    },
    {
     "data": {
      "image/png": "[encoded data removed]",
      "text/plain": [
       "<Figure size 432x288 with 1 Axes>"
      ]
     },
     "metadata": {
      "needs_background": "light"
     },
     "output_type": "display_data"
    },
    {
     "data": {
      "image/png": "[encoded data removed]",
      "text/plain": [
       "<Figure size 432x288 with 1 Axes>"
      ]
     },
     "metadata": {
      "needs_background": "light"
     },
     "output_type": "display_data"
    },
    {
     "data": {
      "image/png": "[encoded data removed]",
      "text/plain": [
       "<Figure size 432x288 with 1 Axes>"
      ]
     },
     "metadata": {
      "needs_background": "light"
     },
     "output_type": "display_data"
    }
   ],
   "source": [
    "#Plot bar plots for categorical features\n",
    "\n",
    "for item in categorical:\n",
    "    joindf[item].value_counts(dropna=False).plot(kind='bar', title=item)\n",
    "    plt.show()"
   ]
  },
  {
   "cell_type": "code",
   "execution_count": 33,
   "id": "dc924758",
   "metadata": {},
   "outputs": [],
   "source": [
    "#Saving cleaned frame to CSV\n",
    "\n",
    "joindf.to_csv('ml_ready_df.csv', index=False)"
   ]
  }
 ],
 "metadata": {
  "kernelspec": {
   "display_name": "Python 3",
   "language": "python",
   "name": "python3"
  },
  "language_info": {
   "codemirror_mode": {
    "name": "ipython",
    "version": 3
   },
   "file_extension": ".py",
   "mimetype": "text/x-python",
   "name": "python",
   "nbconvert_exporter": "python",
   "pygments_lexer": "ipython3",
   "version": "3.8.8"
  }
 },
 "nbformat": 4,
 "nbformat_minor": 5
}
