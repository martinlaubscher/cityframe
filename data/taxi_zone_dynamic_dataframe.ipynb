{
 "cells": [
  {
   "cell_type": "markdown",
   "id": "46229545",
   "metadata": {},
   "source": [
    "This file aims to take the cleaned data acquired from the base data sets and transform it into a format that can be used for our machine learning purposes. This particular dataset will focus on vehicular pickup and dropoff traffic from New York taxis and FHVs. The general formatting involves looking at the various taxi zones, and counting the pickups and dropoffs that occur in each during one hour increments. Weather data is also provided for each hour. This should allow a machine learning model to predict busyness in a particular area given the time, weather, and taxi zone as inputs. "
   ]
  },
  {
   "cell_type": "code",
   "execution_count": 1,
   "id": "734b4781",
   "metadata": {},
   "outputs": [],
   "source": [
    "import pandas as pd\n",
    "import numpy as np\n",
    "import matplotlib.pyplot as plt\n",
    "import plotly.express as px"
   ]
  },
  {
   "cell_type": "code",
   "execution_count": 3,
   "id": "d4afbf3a",
   "metadata": {},
   "outputs": [
    {
     "name": "stdout",
     "output_type": "stream",
     "text": [
      "Length of pickup list: 262\n",
      "Length of dropoff list: 263\n",
      "Full taxi zone list length: 263\n",
      "Full taxi zone list: [1, 2, 3, 4, 5, 6, 7, 8, 9, 10, 11, 12, 13, 14, 15, 16, 17, 18, 19, 20, 21, 22, 23, 24, 25, 26, 27, 28, 29, 30, 31, 32, 33, 34, 35, 36, 37, 38, 39, 40, 41, 42, 43, 44, 45, 46, 47, 48, 49, 50, 51, 52, 53, 54, 55, 56, 57, 58, 59, 60, 61, 62, 63, 64, 65, 66, 67, 68, 69, 70, 71, 72, 73, 74, 75, 76, 77, 78, 79, 80, 81, 82, 83, 84, 85, 86, 87, 88, 89, 90, 91, 92, 93, 94, 95, 96, 97, 98, 99, 100, 101, 102, 104, 105, 106, 107, 108, 109, 111, 112, 113, 114, 115, 116, 117, 118, 119, 120, 121, 122, 123, 124, 125, 126, 127, 128, 129, 130, 131, 132, 133, 134, 135, 136, 137, 138, 139, 140, 141, 142, 143, 144, 145, 146, 147, 148, 149, 150, 151, 152, 153, 154, 155, 156, 157, 158, 159, 160, 161, 162, 163, 164, 165, 166, 167, 168, 169, 170, 171, 172, 173, 174, 175, 176, 177, 178, 179, 180, 181, 182, 183, 184, 185, 186, 187, 188, 189, 190, 191, 192, 193, 194, 195, 196, 197, 198, 199, 200, 201, 202, 203, 204, 205, 206, 207, 208, 209, 210, 211, 212, 213, 214, 215, 216, 217, 218, 219, 220, 221, 222, 223, 224, 225, 226, 227, 228, 229, 230, 231, 232, 233, 234, 235, 236, 237, 238, 239, 240, 241, 242, 243, 244, 245, 246, 247, 248, 249, 250, 251, 252, 253, 254, 255, 256, 257, 258, 259, 260, 261, 262, 263, 264, 265]\n"
     ]
    }
   ],
   "source": [
    "#Pickup taxi zones, dropoff taxi zones, and merged\n",
    "\n",
    "pickup = [1, 2, 3, 4, 5, 6, 7, 8, 9, 10, 11, 12, 13, 14, 15, 16, 17, 18, 19, 20, 21, 22, 23, 24, 25, 26, 27, 28, 29, 30, 31, 32, 33, 34, 35, 36, 37, 38, 39, 40, 41, 42, 43, 44, 45, 46, 47, 48, 49, 50, 51, 52, 53, 54, 55, 56, 57, 58, 59, 60, 61, 62, 63, 64, 65, 66, 67, 68, 69, 70, 71, 72, 73, 74, 75, 76, 77, 78, 79, 80, 81, 82, 83, 84, 85, 86, 87, 88, 89, 90, 91, 92, 93, 94, 95, 96, 97, 98, 99, 100, 101, 102, 105, 106, 107, 108, 109, 111, 112, 113, 114, 115, 116, 117, 118, 119, 120, 121, 122, 123, 124, 125, 126, 127, 128, 129, 130, 131, 132, 133, 134, 135, 136, 137, 138, 139, 140, 141, 142, 143, 144, 145, 146, 147, 148, 149, 150, 151, 152, 153, 154, 155, 156, 157, 158, 159, 160, 161, 162, 163, 164, 165, 166, 167, 168, 169, 170, 171, 172, 173, 174, 175, 176, 177, 178, 179, 180, 181, 182, 183, 184, 185, 186, 187, 188, 189, 190, 191, 192, 193, 194, 195, 196, 197, 198, 199, 200, 201, 202, 203, 204, 205, 206, 207, 208, 209, 210, 211, 212, 213, 214, 215, 216, 217, 218, 219, 220, 221, 222, 223, 224, 225, 226, 227, 228, 229, 230, 231, 232, 233, 234, 235, 236, 237, 238, 239, 240, 241, 242, 243, 244, 245, 246, 247, 248, 249, 250, 251, 252, 253, 254, 255, 256, 257, 258, 259, 260, 261, 262, 263, 264, 265]\n",
    "\n",
    "dropoff = [1, 2, 3, 4, 5, 6, 7, 8, 9, 10, 11, 12, 13, 14, 15, 16, 17, 18, 19, 20, 21, 22, 23, 24, 25, 26, 27, 28, 29, 30, 31, 32, 33, 34, 35, 36, 37, 38, 39, 40, 41, 42, 43, 44, 45, 46, 47, 48, 49, 50, 51, 52, 53, 54, 55, 56, 57, 58, 59, 60, 61, 62, 63, 64, 65, 66, 67, 68, 69, 70, 71, 72, 73, 74, 75, 76, 77, 78, 79, 80, 81, 82, 83, 84, 85, 86, 87, 88, 89, 90, 91, 92, 93, 94, 95, 96, 97, 98, 99, 100, 101, 102, 104, 105, 106, 107, 108, 109, 111, 112, 113, 114, 115, 116, 117, 118, 119, 120, 121, 122, 123, 124, 125, 126, 127, 128, 129, 130, 131, 132, 133, 134, 135, 136, 137, 138, 139, 140, 141, 142, 143, 144, 145, 146, 147, 148, 149, 150, 151, 152, 153, 154, 155, 156, 157, 158, 159, 160, 161, 162, 163, 164, 165, 166, 167, 168, 169, 170, 171, 172, 173, 174, 175, 176, 177, 178, 179, 180, 181, 182, 183, 184, 185, 186, 187, 188, 189, 190, 191, 192, 193, 194, 195, 196, 197, 198, 199, 200, 201, 202, 203, 204, 205, 206, 207, 208, 209, 210, 211, 212, 213, 214, 215, 216, 217, 218, 219, 220, 221, 222, 223, 224, 225, 226, 227, 228, 229, 230, 231, 232, 233, 234, 235, 236, 237, 238, 239, 240, 241, 242, 243, 244, 245, 246, 247, 248, 249, 250, 251, 252, 253, 254, 255, 256, 257, 258, 259, 260, 261, 262, 263, 264, 265]\n",
    "\n",
    "full_zones = list(set(pickup + dropoff))\n",
    "\n",
    "clean_zones = list(dict.fromkeys(full_zones))\n",
    "\n",
    "print(f'Length of pickup list: {len(pickup)}\\nLength of dropoff list: {len(dropoff)}\\nFull taxi zone list length: {len(full_zones)}\\nFull taxi zone list: {full_zones}')"
   ]
  },
  {
   "cell_type": "code",
   "execution_count": 4,
   "id": "5269428c",
   "metadata": {},
   "outputs": [
    {
     "data": {
      "text/plain": [
       "(24648499, 13)"
      ]
     },
     "execution_count": 4,
     "metadata": {},
     "output_type": "execute_result"
    }
   ],
   "source": [
    "#Read data frame from csv file\n",
    "\n",
    "tdf = pd.read_csv('C:/Users/mattx/Downloads/data/cleaned data/cleaned_taxi_df.csv', keep_default_na=True, delimiter=',', skipinitialspace=True, low_memory=False)\n",
    "\n",
    "#Read size from csv\n",
    "\n",
    "tdf.shape"
   ]
  },
  {
   "cell_type": "code",
   "execution_count": 9,
   "id": "d776ab4c",
   "metadata": {},
   "outputs": [
    {
     "name": "stdout",
     "output_type": "stream",
     "text": [
      "<class 'pandas.core.frame.DataFrame'>\n",
      "RangeIndex: 24648499 entries, 0 to 24648498\n",
      "Data columns (total 13 columns):\n",
      " #   Column                 Dtype  \n",
      "---  ------                 -----  \n",
      " 0   tpep_pickup_datetime   object \n",
      " 1   tpep_dropoff_datetime  object \n",
      " 2   passenger_count        float64\n",
      " 3   PULocationID           int64  \n",
      " 4   DOLocationID           int64  \n",
      " 5   PUday                  int64  \n",
      " 6   PUmonth                int64  \n",
      " 7   PUyear                 int64  \n",
      " 8   DOday                  int64  \n",
      " 9   DOmonth                int64  \n",
      " 10  DOyear                 int64  \n",
      " 11  PUhour                 int64  \n",
      " 12  DOhour                 int64  \n",
      "dtypes: float64(1), int64(10), object(2)\n",
      "memory usage: 2.4+ GB\n"
     ]
    }
   ],
   "source": [
    "#Basic information on dataframes features and feature types\n",
    "\n",
    "tdf.info()"
   ]
  },
  {
   "cell_type": "code",
   "execution_count": 5,
   "id": "de2db1a6",
   "metadata": {},
   "outputs": [
    {
     "name": "stdout",
     "output_type": "stream",
     "text": [
      "First 5 rows:\n",
      "   PUday  PUmonth  PUyear  PUhour  PULocationID  pickup_count\n",
      "0      1        1    2003       0           193             1\n",
      "1      1        1    2009       0            43             2\n",
      "2      1        1    2009       0            68             1\n",
      "3      1        1    2009       0            78             1\n",
      "4      1        1    2009       0            79             2\n",
      "Last 5 rows:\n",
      "\n",
      "        PUday  PUmonth  PUyear  PUhour  PULocationID  pickup_count\n",
      "937890     31       12    2020      23           261             4\n",
      "937891     31       12    2020      23           262             9\n",
      "937892     31       12    2020      23           263            36\n",
      "937893     31       12    2020      23           264            14\n",
      "937894     31       12    2020      23           265             7\n",
      "First 5 rows:\n",
      "   PUday  PUmonth  PUyear  PUhour  PULocationID  pickup_count\n",
      "0      1        1    2003       0           193             1\n",
      "1      1        1    2009       0            43             2\n",
      "2      1        1    2009       0            68             1\n",
      "3      1        1    2009       0            78             1\n",
      "4      1        1    2009       0            79             2\n",
      "Last 5 rows:\n",
      "\n",
      "        PUday  PUmonth  PUyear  PUhour  PULocationID  pickup_count\n",
      "937890     31       12    2020      23           261             4\n",
      "937891     31       12    2020      23           262             9\n",
      "937892     31       12    2020      23           263            36\n",
      "937893     31       12    2020      23           264            14\n",
      "937894     31       12    2020      23           265             7\n",
      "First 5 rows:\n",
      "   day  month  year  hour  taxi_zone  pickup_count  dropoff_count\n",
      "0    1      1  2003     0        193             1            NaN\n",
      "1    1      1  2009     0         43             2            NaN\n",
      "2    1      1  2009     0         68             1            NaN\n",
      "3    1      1  2009     0         78             1            1.0\n",
      "4    1      1  2009     0         79             2            NaN\n",
      "Last 5 rows:\n",
      "\n",
      "        day  month  year  hour  taxi_zone  pickup_count  dropoff_count\n",
      "937890   31     12  2020    23        261             4            9.0\n",
      "937891   31     12  2020    23        262             9           21.0\n",
      "937892   31     12  2020    23        263            36           22.0\n",
      "937893   31     12  2020    23        264            14           13.0\n",
      "937894   31     12  2020    23        265             7            5.0\n"
     ]
    }
   ],
   "source": [
    "#grouping taxi data by hour and getting counts for each zone for pickups\n",
    "\n",
    "tempdfPU = pd.DataFrame({'pickup_count' : tdf.groupby(['PUday','PUmonth', 'PUyear', 'PUhour', 'PULocationID'])['PULocationID'].count()}).reset_index()\n",
    "\n",
    "print(\"First 5 rows:\")\n",
    "print(tempdfPU.head())\n",
    "print(\"Last 5 rows:\\n\")\n",
    "print(tempdfPU.tail())\n",
    "\n",
    "\n",
    "#grouping taxi data by hour and getting counts for each zone for dropoffs\n",
    "\n",
    "tempdfDO = pd.DataFrame({'dropoff_count' : tdf.groupby(['DOday','DOmonth', 'DOyear', 'DOhour', 'DOLocationID'])['DOLocationID'].count()}).reset_index()\n",
    "\n",
    "print(\"First 5 rows:\")\n",
    "print(tempdfPU.head())\n",
    "print(\"Last 5 rows:\\n\")\n",
    "print(tempdfPU.tail())\n",
    "\n",
    "\n",
    "#changing names to facilitate left join\n",
    "\n",
    "tempdfPU = tempdfPU.rename(columns={'PUyear':'year', 'PUmonth':'month', 'PUday':'day','PUhour':'hour','PULocationID':'taxi_zone'})\n",
    "tempdfDO = tempdfDO.rename(columns={'DOyear':'year', 'DOmonth':'month', 'DOday':'day','DOhour':'hour','DOLocationID':'taxi_zone'})\n",
    "\n",
    "\n",
    "#Performing a left join on the two datasets\n",
    "\n",
    "joindf = pd.merge(tempdfPU, tempdfDO, how='left', left_on=['year', 'month', 'day', 'hour', 'taxi_zone'], right_on=['year', 'month', 'day', 'hour', 'taxi_zone'])\n",
    "\n",
    "print(\"First 5 rows:\")\n",
    "print(joindf.head())\n",
    "print(\"Last 5 rows:\\n\")\n",
    "print(joindf.tail())"
   ]
  },
  {
   "cell_type": "code",
   "execution_count": 6,
   "id": "3e4d6c4e",
   "metadata": {},
   "outputs": [
    {
     "data": {
      "text/plain": [
       "(19005, 25)"
      ]
     },
     "execution_count": 6,
     "metadata": {},
     "output_type": "execute_result"
    }
   ],
   "source": [
    "#importing weather data to be merged\n",
    "\n",
    "wdf = pd.read_csv('C:/Users/mattx/Downloads/data/cleaned data/cleaned_weather_df.csv', keep_default_na=True, delimiter=',', skipinitialspace=True, low_memory=False)\n",
    "\n",
    "#Read size from csv\n",
    "\n",
    "wdf.shape"
   ]
  },
  {
   "cell_type": "code",
   "execution_count": 7,
   "id": "e0831f11",
   "metadata": {},
   "outputs": [],
   "source": [
    "#Cutting weather data down to essential columns only: datetime, temperature, feels like, weather_main\n",
    "\n",
    "wdf = wdf[['year', 'month', 'day', 'hour', 'temp', 'feels_like', 'weather_main']]"
   ]
  },
  {
   "cell_type": "code",
   "execution_count": 8,
   "id": "e3bffc52",
   "metadata": {},
   "outputs": [
    {
     "name": "stdout",
     "output_type": "stream",
     "text": [
      "<class 'pandas.core.frame.DataFrame'>\n",
      "RangeIndex: 19005 entries, 0 to 19004\n",
      "Data columns (total 7 columns):\n",
      " #   Column        Non-Null Count  Dtype  \n",
      "---  ------        --------------  -----  \n",
      " 0   year          19005 non-null  int64  \n",
      " 1   month         19005 non-null  int64  \n",
      " 2   day           19005 non-null  int64  \n",
      " 3   hour          19005 non-null  int64  \n",
      " 4   temp          19005 non-null  float64\n",
      " 5   feels_like    19005 non-null  float64\n",
      " 6   weather_main  19005 non-null  object \n",
      "dtypes: float64(2), int64(4), object(1)\n",
      "memory usage: 1.0+ MB\n"
     ]
    }
   ],
   "source": [
    "#Basic information on dataframes features and feature types\n",
    "\n",
    "wdf.info()"
   ]
  },
  {
   "cell_type": "code",
   "execution_count": 10,
   "id": "a19d593c",
   "metadata": {},
   "outputs": [
    {
     "name": "stdout",
     "output_type": "stream",
     "text": [
      "First 5 rows:\n",
      "   day  month  year  hour  taxi_zone  pickup_count  dropoff_count  temp  \\\n",
      "0    1      1  2003     0        193             1            NaN   NaN   \n",
      "1    1      1  2009     0         43             2            NaN   NaN   \n",
      "2    1      1  2009     0         68             1            NaN   NaN   \n",
      "3    1      1  2009     0         78             1            1.0   NaN   \n",
      "4    1      1  2009     0         79             2            NaN   NaN   \n",
      "\n",
      "   feels_like weather_main  \n",
      "0         NaN          NaN  \n",
      "1         NaN          NaN  \n",
      "2         NaN          NaN  \n",
      "3         NaN          NaN  \n",
      "4         NaN          NaN  \n",
      "Last 5 rows:\n",
      "\n",
      "         day  month  year  hour  taxi_zone  pickup_count  dropoff_count  \\\n",
      "1013944   31     12  2020    23        261             4            9.0   \n",
      "1013945   31     12  2020    23        262             9           21.0   \n",
      "1013946   31     12  2020    23        263            36           22.0   \n",
      "1013947   31     12  2020    23        264            14           13.0   \n",
      "1013948   31     12  2020    23        265             7            5.0   \n",
      "\n",
      "           temp  feels_like weather_main  \n",
      "1013944  275.34      271.49        Clear  \n",
      "1013945  275.34      271.49        Clear  \n",
      "1013946  275.34      271.49        Clear  \n",
      "1013947  275.34      271.49        Clear  \n",
      "1013948  275.34      271.49        Clear  \n"
     ]
    }
   ],
   "source": [
    "#joining weather df into joindf\n",
    "\n",
    "joindf = pd.merge(joindf, wdf, how='left', left_on=['year', 'month', 'day', 'hour'], right_on=['year', 'month', 'day', 'hour'])\n",
    "\n",
    "print(\"First 5 rows:\")\n",
    "print(joindf.head())\n",
    "print(\"Last 5 rows:\\n\")\n",
    "print(joindf.tail())"
   ]
  },
  {
   "cell_type": "code",
   "execution_count": 11,
   "id": "07c419f9",
   "metadata": {},
   "outputs": [
    {
     "name": "stdout",
     "output_type": "stream",
     "text": [
      "<class 'pandas.core.frame.DataFrame'>\n",
      "Int64Index: 1013949 entries, 0 to 1013948\n",
      "Data columns (total 10 columns):\n",
      " #   Column         Non-Null Count    Dtype  \n",
      "---  ------         --------------    -----  \n",
      " 0   day            1013949 non-null  int64  \n",
      " 1   month          1013949 non-null  int64  \n",
      " 2   year           1013949 non-null  int64  \n",
      " 3   hour           1013949 non-null  int64  \n",
      " 4   taxi_zone      1013949 non-null  int64  \n",
      " 5   pickup_count   1013949 non-null  int64  \n",
      " 6   dropoff_count  858214 non-null   float64\n",
      " 7   temp           1013836 non-null  float64\n",
      " 8   feels_like     1013836 non-null  float64\n",
      " 9   weather_main   1013836 non-null  object \n",
      "dtypes: float64(3), int64(6), object(1)\n",
      "memory usage: 85.1+ MB\n"
     ]
    }
   ],
   "source": [
    "#Basic information on dataframes features and feature types\n",
    "\n",
    "joindf.info()"
   ]
  },
  {
   "cell_type": "code",
   "execution_count": 12,
   "id": "59eef468",
   "metadata": {},
   "outputs": [],
   "source": [
    "#Casting categorical feature properly\n",
    "\n",
    "joindf['day'] = joindf['day'].astype(object)\n",
    "joindf['month'] = joindf['month'].astype(object)\n",
    "joindf['year'] = joindf['year'].astype(object)\n",
    "joindf['hour'] = joindf['hour'].astype(object)\n",
    "joindf['taxi_zone'] = joindf['taxi_zone'].astype(object)"
   ]
  },
  {
   "cell_type": "code",
   "execution_count": 14,
   "id": "783fba41",
   "metadata": {},
   "outputs": [],
   "source": [
    "#Grouping continuous and categorical features\n",
    "\n",
    "categorical = ['taxi_zone', 'year', 'month', 'day', 'hour','weather_main', 'temp', 'feels_like']\n",
    "continuous = ['pickup_count', 'dropoff_count']"
   ]
  },
  {
   "cell_type": "code",
   "execution_count": 19,
   "id": "9d807493",
   "metadata": {},
   "outputs": [
    {
     "name": "stdout",
     "output_type": "stream",
     "text": [
      "day: 0.0\n",
      "month: 0.0\n",
      "year: 0.0\n",
      "hour: 0.0\n",
      "taxi_zone: 0.0\n",
      "pickup_count: 0.0\n",
      "dropoff_count: 15.359253769173796\n",
      "temp: 0.011144544745347153\n",
      "feels_like: 0.011144544745347153\n",
      "weather_main: 0.011144544745347153\n"
     ]
    }
   ],
   "source": [
    "#Checking for missing values\n",
    "\n",
    "full = list(joindf)\n",
    "\n",
    "for item in full:\n",
    "    percent_missing = joindf[item].isnull().sum() * 100 / len(joindf)\n",
    "    print(f'{item}: {percent_missing}')\n",
    "    \n",
    "#There is a fair amount of missing data in dropoff count, and a miniscule amount of missing data in temp, feels_like, and weather_main\n",
    "#Null dropoff count will be set to 0, as this likely represents dropoffs that occured outside of Manhattan\n",
    "#Null weather data will be deleted, as it is not a sigificant amountof data, and would spoil the machine learning\n",
    "#Erroneous data (I.E. dates outside of the original datetime range) will also be deleted\n",
    "\n",
    "joindf['dropoff_count'] = joindf['dropoff_count'].fillna(0)\n",
    "joindf = joindf[joindf['temp'].notna()]\n",
    "joindf = joindf[joindf['feels_like'].notna()]\n",
    "joindf = joindf[joindf['weather_main'].notna()]"
   ]
  },
  {
   "cell_type": "code",
   "execution_count": 20,
   "id": "2c0320ab",
   "metadata": {},
   "outputs": [
    {
     "name": "stdout",
     "output_type": "stream",
     "text": [
      "day: 0.0\n",
      "month: 0.0\n",
      "year: 0.0\n",
      "hour: 0.0\n",
      "taxi_zone: 0.0\n",
      "pickup_count: 0.0\n",
      "dropoff_count: 0.0\n",
      "temp: 0.0\n",
      "feels_like: 0.0\n",
      "weather_main: 0.0\n"
     ]
    }
   ],
   "source": [
    "#Rechecking for missing values\n",
    "\n",
    "full = list(joindf)\n",
    "\n",
    "for item in full:\n",
    "    percent_missing = joindf[item].isnull().sum() * 100 / len(joindf)\n",
    "    print(f'{item}: {percent_missing}')"
   ]
  },
  {
   "cell_type": "code",
   "execution_count": 26,
   "id": "b96a465e",
   "metadata": {},
   "outputs": [
    {
     "name": "stdout",
     "output_type": "stream",
     "text": [
      "['Clear', 'Clouds', 'Drizzle', 'Fog', 'Haze', 'Mist', 'Rain', 'Smoke', 'Snow', 'Squall', 'Thunderstorm']\n",
      "[1, 2, 3, 4, 5, 6, 7, 8, 9, 10, 11]\n"
     ]
    }
   ],
   "source": [
    "#getting values for weather main and coverting to numeric representation for the purpose of machine learning\n",
    "\n",
    "print(sorted(joindf['weather_main'].unique()))\n",
    "\n",
    "#dictionary holding k:v pairs for weather states\n",
    "\n",
    "mapping = {'Clear':1, 'Clouds':2, 'Drizzle': 3, 'Fog':4, 'Haze': 5, 'Mist':6, 'Rain': 7, 'Smoke': 8, 'Snow': 9, 'Squall': 10, 'Thunderstorm': 11}\n",
    "\n",
    "#replacing values with mapped numbers\n",
    "\n",
    "joindf = joindf.applymap(lambda s: mapping.get(s) if s in mapping else s)"
   ]
  },
  {
   "cell_type": "code",
   "execution_count": 29,
   "id": "b7b20c46",
   "metadata": {},
   "outputs": [
    {
     "data": {
      "text/plain": [
       "array([[<AxesSubplot:title={'center':'day'}>,\n",
       "        <AxesSubplot:title={'center':'hour'}>,\n",
       "        <AxesSubplot:title={'center':'dropoff_count'}>,\n",
       "        <AxesSubplot:title={'center':'weather_main'}>],\n",
       "       [<AxesSubplot:title={'center':'month'}>,\n",
       "        <AxesSubplot:title={'center':'taxi_zone'}>,\n",
       "        <AxesSubplot:title={'center':'temp'}>, <AxesSubplot:>],\n",
       "       [<AxesSubplot:title={'center':'year'}>,\n",
       "        <AxesSubplot:title={'center':'pickup_count'}>,\n",
       "        <AxesSubplot:title={'center':'feels_like'}>, <AxesSubplot:>]],\n",
       "      dtype=object)"
      ]
     },
     "execution_count": 29,
     "metadata": {},
     "output_type": "execute_result"
    },
    {
     "data": {
      "image/png": "[encoded data removed]",
      "text/plain": [
       "<Figure size 432x288 with 12 Axes>"
      ]
     },
     "metadata": {
      "needs_background": "light"
     },
     "output_type": "display_data"
    }
   ],
   "source": [
    "#Plot histograms for continuous features\n",
    "\n",
    "joindf.hist().T"
   ]
  },
  {
   "cell_type": "code",
   "execution_count": 28,
   "id": "0f0a64f3",
   "metadata": {},
   "outputs": [
    {
     "data": {
      "image/png": "[encoded data removed]",
      "text/plain": [
       "<Figure size 432x288 with 1 Axes>"
      ]
     },
     "metadata": {
      "needs_background": "light"
     },
     "output_type": "display_data"
    },
    {
     "data": {
      "image/png": "[encoded data removed]",
      "text/plain": [
       "<Figure size 432x288 with 1 Axes>"
      ]
     },
     "metadata": {
      "needs_background": "light"
     },
     "output_type": "display_data"
    },
    {
     "data": {
      "image/png": "[encoded data removed]",
      "text/plain": [
       "<Figure size 432x288 with 1 Axes>"
      ]
     },
     "metadata": {
      "needs_background": "light"
     },
     "output_type": "display_data"
    },
    {
     "data": {
      "image/png": "[encoded data removed]",
      "text/plain": [
       "<Figure size 432x288 with 1 Axes>"
      ]
     },
     "metadata": {
      "needs_background": "light"
     },
     "output_type": "display_data"
    },
    {
     "data": {
      "image/png": "[encoded data removed]",
      "text/plain": [
       "<Figure size 432x288 with 1 Axes>"
      ]
     },
     "metadata": {
      "needs_background": "light"
     },
     "output_type": "display_data"
    },
    {
     "data": {
      "image/png": "[encoded data removed]",
      "text/plain": [
       "<Figure size 432x288 with 1 Axes>"
      ]
     },
     "metadata": {
      "needs_background": "light"
     },
     "output_type": "display_data"
    },
    {
     "data": {
      "image/png": "[encoded data removed]",
      "text/plain": [
       "<Figure size 432x288 with 1 Axes>"
      ]
     },
     "metadata": {
      "needs_background": "light"
     },
     "output_type": "display_data"
    },
    {
     "data": {
      "image/png": "[encoded data removed]",
      "text/plain": [
       "<Figure size 432x288 with 1 Axes>"
      ]
     },
     "metadata": {
      "needs_background": "light"
     },
     "output_type": "display_data"
    }
   ],
   "source": [
    "#Plot bar plots for categorical features\n",
    "\n",
    "for item in categorical:\n",
    "    joindf[item].value_counts(dropna=False).plot(kind='bar', title=item)\n",
    "    plt.show()"
   ]
  },
  {
   "cell_type": "code",
   "execution_count": 31,
   "id": "dc924758",
   "metadata": {},
   "outputs": [],
   "source": [
    "#Saving cleaned frame to CSV\n",
    "\n",
    "joindf.to_csv('ml_ready_df.csv', index=False)"
   ]
  }
 ],
 "metadata": {
  "kernelspec": {
   "display_name": "Python 3",
   "language": "python",
   "name": "python3"
  },
  "language_info": {
   "codemirror_mode": {
    "name": "ipython",
    "version": 3
   },
   "file_extension": ".py",
   "mimetype": "text/x-python",
   "name": "python",
   "nbconvert_exporter": "python",
   "pygments_lexer": "ipython3",
   "version": "3.8.8"
  }
 },
 "nbformat": 4,
 "nbformat_minor": 5
}
